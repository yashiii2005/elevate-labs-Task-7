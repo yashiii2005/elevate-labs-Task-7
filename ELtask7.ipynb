{
 "cells": [
  {
   "cell_type": "code",
   "execution_count": 4,
   "id": "b349c431-a45d-4754-b788-d220ee9d74c0",
   "metadata": {},
   "outputs": [],
   "source": [
    "import os\n",
    "from PIL import Image\n"
   ]
  },
  {
   "cell_type": "code",
   "execution_count": 9,
   "id": "07f5976b-e840-4795-aafc-1a28c2665728",
   "metadata": {},
   "outputs": [
    {
     "name": "stdout",
     "output_type": "stream",
     "text": [
      "Resized and saved: E:\\intern\\elevatelabs\\wallpaperflare.com_wallpaper(5).jpeg\n"
     ]
    }
   ],
   "source": [
    "\n",
    "def batch_resize_images(input_folder, output_folder, target_width, target_height, output_format=None):\n",
    "    if not os.path.exists(output_folder):\n",
    "        os.makedirs(output_folder)\n",
    "    for filename in os.listdir(input_folder):\n",
    "        if filename.lower().endswith(('.png', '.jpg', '.jpeg', '.bmp', '.gif', '.tiff')):\n",
    "            input_path = os.path.join(input_folder, filename)\n",
    "            try:\n",
    "                with Image.open(input_path) as img:\n",
    "                    # Resize image\n",
    "                    resized_img = img.resize((target_width, target_height), Image.Resampling.LANCZOS)\n",
    "\n",
    "                    # Set output filename and format\n",
    "                    base, ext = os.path.splitext(filename)\n",
    "                    if output_format:\n",
    "                        ext = '.' + output_format.lower()\n",
    "                    output_path = os.path.join(output_folder, base + ext)\n",
    "                    # Save resized image\n",
    "                    resized_img.save(output_path)\n",
    "                    print(f\"Resized and saved: {output_path}\")\n",
    "            except Exception as e:\n",
    "                print(f\"Error processing {filename}: {e}\")\n",
    "\n",
    "\n",
    "\n",
    "# Example usage\n",
    "input_folder = r\"E:\\intern\\elevatelabs\"\n",
    "output_folder = r\"E:\\intern\\elevatelabs\"\n",
    "target_width = 800\n",
    "target_height = 600\n",
    "output_format = \"jpeg\"  # Set to None to keep original format\n",
    "\n",
    "batch_resize_images(input_folder, output_folder, target_width, target_height, output_format)"
   ]
  },
  {
   "cell_type": "code",
   "execution_count": 6,
   "id": "3c533796-f085-4c86-a3d2-f86ed72bf977",
   "metadata": {},
   "outputs": [],
   "source": []
  },
  {
   "cell_type": "code",
   "execution_count": null,
   "id": "35204c09-105a-4ccd-a4ec-ffca023d8ae8",
   "metadata": {},
   "outputs": [],
   "source": []
  }
 ],
 "metadata": {
  "kernelspec": {
   "display_name": "Python 3 (ipykernel)",
   "language": "python",
   "name": "python3"
  },
  "language_info": {
   "codemirror_mode": {
    "name": "ipython",
    "version": 3
   },
   "file_extension": ".py",
   "mimetype": "text/x-python",
   "name": "python",
   "nbconvert_exporter": "python",
   "pygments_lexer": "ipython3",
   "version": "3.11.7"
  }
 },
 "nbformat": 4,
 "nbformat_minor": 5
}
